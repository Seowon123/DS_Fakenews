{
 "cells": [
  {
   "cell_type": "markdown",
   "metadata": {},
   "source": [
    "## 데이터 준비"
   ]
  },
  {
   "cell_type": "code",
   "execution_count": 7,
   "metadata": {},
   "outputs": [
    {
     "name": "stderr",
     "output_type": "stream",
     "text": [
      "Loading data from ../datas//낚시성 기사 탐지 데이터/Training/02.라벨링데이터/TL_Part1_Clickbait_Auto_SO: 100%|██████████| 28956/28956 [00:05<00:00, 4961.15it/s]\n",
      "Loading data from ../datas/낚시성 기사 탐지 데이터/Training/02.라벨링데이터/TL_Part1_NonClickbait_Auto_SO: 100%|██████████| 28135/28135 [00:05<00:00, 5486.39it/s]\n"
     ]
    },
    {
     "name": "stdout",
     "output_type": "stream",
     "text": [
      "Loaded 57091 records.\n",
      "                                   title  \\\n",
      "0            임대주택 쫓겨나는 사람들, 밀린 월세는 누가 낼까   \n",
      "1          새마을운동이 한류? EBS도 '친정권방송'에 합류하나   \n",
      "2  도시가스협회 민들레카, 2년동안 4,500명에 130km 여행 선물   \n",
      "3   美 화이자·모더나 심근염 이상반응 우려에…당국 \\\"조치 준비중\\\"   \n",
      "4    코로나 장기화에…청년구직자 10명 중 6명 ‘사실상 구직 포기’   \n",
      "\n",
      "                                             content  label  \n",
      "0  #사례 1. 74년생 여성으로 자녀가 5명인 한 부모 가정 기초생활수급비에 의존해 ...      0  \n",
      "1  EBS가 박근혜 정권 기조와 정책에 발맞추는 프로그램을 내보내거나 기획하고 있다.\\...      0  \n",
      "2  한국도시가스협회(회장 구자철)는 자사의 대표 사회 공헌 사업인 민들레카 서비스가2년...      0  \n",
      "3  화이자나 모더나 신종 코로나바이러스 감염증(코로나19) 백신을 맞은 젊은층이 높은 ...      0  \n",
      "4  신종 코로나바이러스 감염증(코로나19) 사태가 1년 넘게 지속되며 청년 구직자의 6...      0  \n"
     ]
    }
   ],
   "source": [
    "import os\n",
    "import json\n",
    "import pandas as pd\n",
    "from tqdm import tqdm\n",
    "\n",
    "# 데이터 폴더 경로 설정\n",
    "cb_folder = \"../datas//낚시성 기사 탐지 데이터/Training/02.라벨링데이터/TL_Part1_Clickbait_Auto_SO\"  # 클릭베이트 데이터\n",
    "nm_folder = \"../datas/낚시성 기사 탐지 데이터/Training/02.라벨링데이터/TL_Part1_NonClickbait_Auto_SO\"  # 정상 데이터\n",
    "\n",
    "# 데이터 로드 함수\n",
    "def load_data_from_folder(folder, label):\n",
    "    data = []\n",
    "    file_list = [f for f in os.listdir(folder) if f.endswith('.json')]\n",
    "    for file_name in tqdm(file_list, desc=f\"Loading data from {folder}\"):\n",
    "        file_path = os.path.join(folder, file_name)\n",
    "        with open(file_path, 'r', encoding='utf-8') as file:\n",
    "            content = json.load(file)\n",
    "            title = content[\"sourceDataInfo\"][\"newsTitle\"]\n",
    "            text = content[\"sourceDataInfo\"][\"newsContent\"]\n",
    "            data.append({\"title\": title, \"content\": text, \"label\": label})\n",
    "    return data\n",
    "\n",
    "# 클릭베이트 및 정상 데이터 로드\n",
    "cb_data = load_data_from_folder(cb_folder, label=0)\n",
    "nm_data = load_data_from_folder(nm_folder, label=1)\n",
    "\n",
    "# 데이터프레임 생성\n",
    "df = pd.DataFrame(cb_data + nm_data)\n",
    "print(f\"Loaded {len(df)} records.\")\n",
    "print(df.head())\n"
   ]
  },
  {
   "cell_type": "markdown",
   "metadata": {},
   "source": [
    "## 데이터 전처리"
   ]
  },
  {
   "cell_type": "code",
   "execution_count": 8,
   "metadata": {},
   "outputs": [
    {
     "data": {
      "text/html": [
       "<div>\n",
       "<style scoped>\n",
       "    .dataframe tbody tr th:only-of-type {\n",
       "        vertical-align: middle;\n",
       "    }\n",
       "\n",
       "    .dataframe tbody tr th {\n",
       "        vertical-align: top;\n",
       "    }\n",
       "\n",
       "    .dataframe thead th {\n",
       "        text-align: right;\n",
       "    }\n",
       "</style>\n",
       "<table border=\"1\" class=\"dataframe\">\n",
       "  <thead>\n",
       "    <tr style=\"text-align: right;\">\n",
       "      <th></th>\n",
       "      <th>title</th>\n",
       "      <th>content</th>\n",
       "      <th>label</th>\n",
       "      <th>combined_text</th>\n",
       "    </tr>\n",
       "  </thead>\n",
       "  <tbody>\n",
       "    <tr>\n",
       "      <th>0</th>\n",
       "      <td>임대주택 쫓겨나는 사람들, 밀린 월세는 누가 낼까</td>\n",
       "      <td>#사례 1. 74년생 여성으로 자녀가 5명인 한 부모 가정 기초생활수급비에 의존해 ...</td>\n",
       "      <td>0</td>\n",
       "      <td>임대주택 쫓겨나는 사람들, 밀린 월세는 누가 낼까 #사례 1. 74년생 여성으로 자...</td>\n",
       "    </tr>\n",
       "    <tr>\n",
       "      <th>1</th>\n",
       "      <td>새마을운동이 한류? EBS도 '친정권방송'에 합류하나</td>\n",
       "      <td>EBS가 박근혜 정권 기조와 정책에 발맞추는 프로그램을 내보내거나 기획하고 있다. ...</td>\n",
       "      <td>0</td>\n",
       "      <td>새마을운동이 한류? EBS도 '친정권방송'에 합류하나 EBS가 박근혜 정권 기조와 ...</td>\n",
       "    </tr>\n",
       "    <tr>\n",
       "      <th>2</th>\n",
       "      <td>도시가스협회 민들레카, 2년동안 4,500명에 130km 여행 선물</td>\n",
       "      <td>한국도시가스협회(회장 구자철)는 자사의 대표 사회 공헌 사업인 민들레카 서비스가2년...</td>\n",
       "      <td>0</td>\n",
       "      <td>도시가스협회 민들레카, 2년동안 4,500명에 130km 여행 선물 한국도시가스협회...</td>\n",
       "    </tr>\n",
       "    <tr>\n",
       "      <th>3</th>\n",
       "      <td>美 화이자·모더나 심근염 이상반응 우려에…당국 \"조치 준비중\"</td>\n",
       "      <td>화이자나 모더나 신종 코로나바이러스 감염증(코로나19) 백신을 맞은 젊은층이 높은 ...</td>\n",
       "      <td>0</td>\n",
       "      <td>美 화이자·모더나 심근염 이상반응 우려에…당국 \"조치 준비중\" 화이자나 모더나 신종...</td>\n",
       "    </tr>\n",
       "    <tr>\n",
       "      <th>4</th>\n",
       "      <td>코로나 장기화에…청년구직자 10명 중 6명 ‘사실상 구직 포기’</td>\n",
       "      <td>신종 코로나바이러스 감염증(코로나19) 사태가 1년 넘게 지속되며 청년 구직자의 6...</td>\n",
       "      <td>0</td>\n",
       "      <td>코로나 장기화에…청년구직자 10명 중 6명 ‘사실상 구직 포기’ 신종 코로나바이러스...</td>\n",
       "    </tr>\n",
       "  </tbody>\n",
       "</table>\n",
       "</div>"
      ],
      "text/plain": [
       "                                   title  \\\n",
       "0            임대주택 쫓겨나는 사람들, 밀린 월세는 누가 낼까   \n",
       "1          새마을운동이 한류? EBS도 '친정권방송'에 합류하나   \n",
       "2  도시가스협회 민들레카, 2년동안 4,500명에 130km 여행 선물   \n",
       "3     美 화이자·모더나 심근염 이상반응 우려에…당국 \"조치 준비중\"   \n",
       "4    코로나 장기화에…청년구직자 10명 중 6명 ‘사실상 구직 포기’   \n",
       "\n",
       "                                             content  label  \\\n",
       "0  #사례 1. 74년생 여성으로 자녀가 5명인 한 부모 가정 기초생활수급비에 의존해 ...      0   \n",
       "1  EBS가 박근혜 정권 기조와 정책에 발맞추는 프로그램을 내보내거나 기획하고 있다. ...      0   \n",
       "2  한국도시가스협회(회장 구자철)는 자사의 대표 사회 공헌 사업인 민들레카 서비스가2년...      0   \n",
       "3  화이자나 모더나 신종 코로나바이러스 감염증(코로나19) 백신을 맞은 젊은층이 높은 ...      0   \n",
       "4  신종 코로나바이러스 감염증(코로나19) 사태가 1년 넘게 지속되며 청년 구직자의 6...      0   \n",
       "\n",
       "                                       combined_text  \n",
       "0  임대주택 쫓겨나는 사람들, 밀린 월세는 누가 낼까 #사례 1. 74년생 여성으로 자...  \n",
       "1  새마을운동이 한류? EBS도 '친정권방송'에 합류하나 EBS가 박근혜 정권 기조와 ...  \n",
       "2  도시가스협회 민들레카, 2년동안 4,500명에 130km 여행 선물 한국도시가스협회...  \n",
       "3  美 화이자·모더나 심근염 이상반응 우려에…당국 \"조치 준비중\" 화이자나 모더나 신종...  \n",
       "4  코로나 장기화에…청년구직자 10명 중 6명 ‘사실상 구직 포기’ 신종 코로나바이러스...  "
      ]
     },
     "execution_count": 8,
     "metadata": {},
     "output_type": "execute_result"
    }
   ],
   "source": [
    "import re\n",
    "\n",
    "def preprocess_text(text):\n",
    "    # 백슬래시 제거\n",
    "    text = text.replace(\"\\\\\", \"\")\n",
    "    # 중복된 공백 제거\n",
    "    text = re.sub(r\"\\s+\", \" \", text).strip()\n",
    "    return text\n",
    "\n",
    "# 제목과 본문 전처리\n",
    "df[\"title\"] = df[\"title\"].apply(preprocess_text)\n",
    "df[\"content\"] = df[\"content\"].apply(preprocess_text)\n",
    "\n",
    "# 제목과 본문 결합\n",
    "df[\"combined_text\"] = df[\"title\"] + \" \" + df[\"content\"]\n",
    "\n",
    "# 결과 확인\n",
    "df.head()\n"
   ]
  },
  {
   "cell_type": "markdown",
   "metadata": {},
   "source": [
    "## 파생변수 생성"
   ]
  },
  {
   "cell_type": "code",
   "execution_count": 9,
   "metadata": {},
   "outputs": [
    {
     "name": "stdout",
     "output_type": "stream",
     "text": [
      "              precision    recall  f1-score   support\n",
      "\n",
      "           0       0.74      0.69      0.72      5766\n",
      "           1       0.71      0.75      0.73      5653\n",
      "\n",
      "    accuracy                           0.72     11419\n",
      "   macro avg       0.72      0.72      0.72     11419\n",
      "weighted avg       0.72      0.72      0.72     11419\n",
      "\n"
     ]
    }
   ],
   "source": [
    "# 파생변수 생성\n",
    "df['title_length'] = df['title'].apply(lambda x: len(x.split()))  # 제목 단어 수\n",
    "df['content_length'] = df['content'].apply(lambda x: len(x.split()))  # 본문 단어 수\n",
    "df['title_content_ratio'] = df['title_length'] / (df['content_length'] + 1e-6)  # 제목-본문 비율\n",
    "df['special_char_count'] = df['title'].apply(lambda x: sum([1 for char in x if char in \"!?#\"])) # 제목에 포함된 특수문자 갯수\n",
    "df['number_in_title'] = df['title'].apply(lambda x: 1 if any(char.isdigit() for char in x) else 0) # 제목에 숫자가 있는지 여부\n",
    "\n",
    "# TF-IDF 유사도 계산\n",
    "from sklearn.feature_extraction.text import TfidfVectorizer\n",
    "import numpy as np\n",
    "\n",
    "tfidf_vectorizer = TfidfVectorizer(max_features=500)\n",
    "tfidf_matrix_title = tfidf_vectorizer.fit_transform(df['title'])\n",
    "tfidf_matrix_content = tfidf_vectorizer.transform(df['content'])\n",
    "\n",
    "cosine_similarities = np.array([\n",
    "    np.dot(tfidf_matrix_title[i].toarray(), tfidf_matrix_content[i].toarray().T)[0, 0]\n",
    "    for i in range(len(df))\n",
    "])\n",
    "df['tfidf_similarity'] = cosine_similarities\n",
    "\n",
    "# 데이터 분리\n",
    "from sklearn.model_selection import train_test_split\n",
    "from sklearn.ensemble import RandomForestClassifier\n",
    "from sklearn.preprocessing import StandardScaler\n",
    "from sklearn.metrics import classification_report\n",
    "\n",
    "X = df[['content_length', 'title_content_ratio', 'tfidf_similarity']]\n",
    "y = df['label']  # 이미 데이터프레임에 포함된 label 사용\n",
    "\n",
    "# 정규화\n",
    "scaler = StandardScaler()\n",
    "X_scaled = scaler.fit_transform(X)\n",
    "\n",
    "# 학습 및 테스트 데이터 분리\n",
    "X_train, X_test, y_train, y_test = train_test_split(X_scaled, y, test_size=0.2, random_state=42)\n",
    "\n",
    "# 랜덤포레스트 모델 학습\n",
    "rf_model = RandomForestClassifier(n_estimators=100, max_depth = 10, min_samples_split=2, min_samples_leaf= 4 ,random_state=42)\n",
    "rf_model.fit(X_train, y_train)\n",
    "\n",
    "# 예측 및 결과 출력\n",
    "y_pred = rf_model.predict(X_test)\n",
    "print(classification_report(y_test, y_pred))\n"
   ]
  },
  {
   "cell_type": "code",
   "execution_count": 10,
   "metadata": {},
   "outputs": [
    {
     "name": "stdout",
     "output_type": "stream",
     "text": [
      "<class 'pandas.core.frame.DataFrame'>\n",
      "RangeIndex: 57091 entries, 0 to 57090\n",
      "Data columns (total 10 columns):\n",
      " #   Column               Non-Null Count  Dtype  \n",
      "---  ------               --------------  -----  \n",
      " 0   title                57091 non-null  object \n",
      " 1   content              57091 non-null  object \n",
      " 2   label                57091 non-null  int64  \n",
      " 3   combined_text        57091 non-null  object \n",
      " 4   title_length         57091 non-null  int64  \n",
      " 5   content_length       57091 non-null  int64  \n",
      " 6   title_content_ratio  57091 non-null  float64\n",
      " 7   special_char_count   57091 non-null  int64  \n",
      " 8   number_in_title      57091 non-null  int64  \n",
      " 9   tfidf_similarity     57091 non-null  float64\n",
      "dtypes: float64(2), int64(5), object(3)\n",
      "memory usage: 4.4+ MB\n"
     ]
    }
   ],
   "source": [
    "df.info()"
   ]
  },
  {
   "cell_type": "code",
   "execution_count": null,
   "metadata": {},
   "outputs": [
    {
     "data": {
      "text/plain": [
       "<Axes: title={'center': 'Cosine Similarity'}, xlabel='label', ylabel='tfidf_similarity'>"
      ]
     },
     "execution_count": 12,
     "metadata": {},
     "output_type": "execute_result"
    },
    {
     "data": {
      "image/png": "[encoded data removed]",
      "text/plain": [
       "<Figure size 1200x800 with 1 Axes>"
      ]
     },
     "metadata": {},
     "output_type": "display_data"
    }
   ],
   "source": [
    "import matplotlib.pyplot as plt\n",
    "import seaborn as sns\n",
    "\n",
    "plt.figure(figsize=(12,8))\n",
    "plt.title('Cosine Similarity')\n",
    "sns.boxplot(x='label', y='tfidf_similarity', data=df)\n",
    "sns.boxplot(x='label', y='tfidf_similarity', data=df,)"
   ]
  },
  {
   "cell_type": "code",
   "execution_count": null,
   "metadata": {},
   "outputs": [],
   "source": []
  }
 ],
 "metadata": {
  "kernelspec": {
   "display_name": "fakenews",
   "language": "python",
   "name": "python3"
  },
  "language_info": {
   "codemirror_mode": {
    "name": "ipython",
    "version": 3
   },
   "file_extension": ".py",
   "mimetype": "text/x-python",
   "name": "python",
   "nbconvert_exporter": "python",
   "pygments_lexer": "ipython3",
   "version": "3.8.20"
  }
 },
 "nbformat": 4,
 "nbformat_minor": 2
}
