{
 "cells": [
  {
   "cell_type": "markdown",
   "id": "ed6545f0-5509-40dc-aac7-bdcac042b8b2",
   "metadata": {},
   "source": [
    "### <기사 본문> \n",
    "#### bait 기사의 top50 단어가 기사 본문의 weight top20 단어들에서 몇% 찾아지는가 \n",
    "* top_10_words -> 상관관계 : 21\n",
    "* top_20_words / top_20_words -> 상관관계: 29"
   ]
  },
  {
   "cell_type": "code",
   "execution_count": null,
   "id": "a971b76a-7f67-4ea4-8ade-10e2304207c6",
   "metadata": {},
   "outputs": [],
   "source": [
    "from sklearn.feature_extraction.text import TfidfVectorizer\n",
    "\n",
    "# Step 1: TF-IDF로 각 기사에서 단어 가중치 계산\n",
    "vectorizer = TfidfVectorizer(max_features=1000)  \n",
    "tfidf_matrix = vectorizer.fit_transform(data['int_Content'])\n",
    "feature_names = vectorizer.get_feature_names_out()\n",
    "\n",
    "# Step 2: 각 기사마다 weight가 큰 단어들 Top 10 추출\n",
    "def get_top_words(row, feature_names, top_n=20):\n",
    "    row_tfidf = row.toarray().flatten()\n",
    "    top_indices = row_tfidf.argsort()[-top_n:][::-1]\n",
    "    return [feature_names[i] for i in top_indices]\n",
    "\n",
    "data['top_20_words'] = [get_top_words(tfidf_matrix[i], feature_names) for i in range(tfidf_matrix.shape[0])]\n",
    "\n",
    "# Step 3: Clickbait 기사(값: 0)에서 자주 등장한 단어 Top 50 추출\n",
    "clickbait_articles = data[data['clickbaitClass'] == 0]  # 'label'은 clickbait 여부 열의 이름\n",
    "clickbait_matrix = vectorizer.transform(clickbait_articles['int_Content'])\n",
    "clickbait_word_sums = clickbait_matrix.sum(axis=0).A1\n",
    "top_50_clickbait_words = [feature_names[i] for i in clickbait_word_sums.argsort()[-50:][::-1]]\n",
    "\n",
    "# Step 4: 각 기사에서 Top 20 단어 중 얼마나 많은 단어가 Clickbait 상위 50 단어에 포함되는지 계산\n",
    "def calculate_overlap_percentage(top_words, clickbait_words):\n",
    "    overlap = len(set(top_words) & set(clickbait_words))\n",
    "    return (overlap / len(top_words)) * 100 if top_words else 0\n",
    "\n",
    "data['bait_top50_percentage'] = data['top_20_words'].apply(lambda x: calculate_overlap_percentage(x, top_50_clickbait_words))\n",
    "\n",
    "# 결과 확인\n",
    "data[['int_Content', 'top_20_words', 'bait_top50_percentage']].head()"
   ]
  },
  {
   "cell_type": "code",
   "execution_count": null,
   "id": "f9db05ac-5151-4964-bbb8-804652245d23",
   "metadata": {},
   "outputs": [],
   "source": [
    "import matplotlib.pyplot as plt\n",
    "import seaborn as sns\n",
    "\n",
    "# Set 스타일\n",
    "sns.set(style=\"whitegrid\")\n",
    "\n",
    "# 히스토그램으로 분포 비교\n",
    "plt.figure(figsize=(12, 6))\n",
    "sns.histplot(data, x='bait_top50_percentage', hue='clickbaitClass', kde=True, bins=30, palette='Set2', alpha=0.7)\n",
    "plt.title('Distribution of bait_top50_percentage by Clickbait Class')\n",
    "plt.xlabel('Percentage of Top 50 Words Overlap')\n",
    "plt.ylabel('Frequency')\n",
    "plt.legend(title='Clickbait Class', labels=['Non-Clickbait (0)', 'Clickbait (1)'])\n",
    "plt.show()"
   ]
  }
 ],
 "metadata": {
  "kernelspec": {
   "display_name": "Python 3 (ipykernel)",
   "language": "python",
   "name": "python3"
  },
  "language_info": {
   "codemirror_mode": {
    "name": "ipython",
    "version": 3
   },
   "file_extension": ".py",
   "mimetype": "text/x-python",
   "name": "python",
   "nbconvert_exporter": "python",
   "pygments_lexer": "ipython3",
   "version": "3.12.7"
  }
 },
 "nbformat": 4,
 "nbformat_minor": 5
}
